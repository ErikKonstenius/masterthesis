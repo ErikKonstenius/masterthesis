{
 "cells": [
  {
   "cell_type": "code",
   "execution_count": 7,
   "id": "2d8db444",
   "metadata": {},
   "outputs": [],
   "source": [
    "import torch\n",
    "import torch.nn as nn\n",
    "import numpy as np\n",
    "\n",
    "class MLP(nn.Module):\n",
    "    \"\"\"\n",
    "    a simple MLP with two hidden layers\n",
    "    \"\"\"\n",
    "    def __init__(self, input_size, hidden_size, output_size):\n",
    "        super(MLP, self).__init__()\n",
    "        self.fc1 = nn.Linear(input_size, hidden_size)\n",
    "        self.relu1 = nn.ReLU()\n",
    "        self.fc2 = nn.Linear(hidden_size, hidden_size)\n",
    "        self.relu2 = nn.ReLU()\n",
    "        self.fc3 = nn.Linear(hidden_size, output_size)\n",
    "    \n",
    "    def forward(self, x):\n",
    "        x = self.fc1(x)\n",
    "        x = self.relu1(x)\n",
    "        x = self.fc2(x)\n",
    "        x = self.relu2(x)\n",
    "        x = self.fc3(x)\n",
    "        return x"
   ]
  },
  {
   "cell_type": "code",
   "execution_count": 10,
   "id": "7e4a03ee",
   "metadata": {},
   "outputs": [],
   "source": [
    "class CustomDataLoader:\n",
    "    \"\"\"\n",
    "    A custom data loader that subsamples the mini-batch based on high error. The MSELoss is used as \n",
    "    the loss function since this is a regression problem. The error is computed for each example in\n",
    "    the mini-batch using the loss, the examples are sorted based on the error, and a subset of \n",
    "    examples with high error is selected. The subsample_fraction hyperparameter determines the \n",
    "    fraction of examples to keep.\n",
    "    \"\"\"\n",
    "    def __init__(self, dataset, batch_size, subsample_fraction):\n",
    "                \"\"\"\n",
    "        Args:\n",
    "        - dataset: a PyTorch Dataset object\n",
    "        - batch_size: an integer indicating the batch size\n",
    "        - subsample_fraction: a float between 0 and 1 indicating the fraction of examples to use for \n",
    "            backpropagation\n",
    "        \"\"\"\n",
    "        self.dataset = dataset\n",
    "        self.batch_size = batch_size\n",
    "        self.subsample_fraction = subsample_fraction\n",
    "    \n",
    "    def __iter__(self):\n",
    "        \"\"\"\n",
    "        Returns an iterator that generates subsampled minibatches from the dataset.\n",
    "        \"\"\"\n",
    "        indices = torch.randperm(len(self.dataset))\n",
    "        for start in range(0, len(self.dataset), self.batch_size):\n",
    "            end = min(start + self.batch_size, len(self.dataset))\n",
    "            inputs, targets = self.dataset[indices[start:end]]\n",
    "            \n",
    "            with torch.no_grad():\n",
    "                # Forward pass to obtain outputs and compute loss\n",
    "                outputs = model(inputs)\n",
    "                loss = nn.MSELoss()(outputs, targets)\n",
    "                \n",
    "                # Compute errors and subsample indices based on highest errors\n",
    "                errors = loss.detach().cpu().numpy()\n",
    "                    # detach() returns a new Tensor, detached from the current graph.\n",
    "                    # cpu() returns a copy of this object in CPU memory.\n",
    "                    # numpy() converts a tensor object into an numpy.ndarray object\n",
    "                sorted_idx = np.argsort(errors)[::-1] \n",
    "                    # np.argsort() returns the indices that would sort an array. \n",
    "                    # np.argsort([3, 1, 4, 2]) would return [1, 3, 0, 2]\n",
    "                    # [::-1] changes order of indices to descending order of error.\n",
    "                    # the result is the array of indices that correspond to the examples with the \n",
    "                    # highest errors in the current minibatch\n",
    "                subset_idx = sorted_idx[:int(len(sorted_idx) * self.subsample_fraction)]\n",
    "                    # selects a subset of these indices based on the subsample_fraction parameter,\n",
    "                    # and the resulting subset_idx array is used to obtain a subset of the inputs \n",
    "                    # and targets for backpropagation.\n",
    "                    \n",
    "            # Yield subsampled inputs and targets\n",
    "            yield inputs[subset_idx].clone(), targets[subset_idx].clone()"
   ]
  },
  {
   "cell_type": "markdown",
   "id": "04794da0",
   "metadata": {},
   "source": [
    "A randomly generated dataset is used for demonstration purposes, where each example has 10 features and 1 target value. We're using the custom data loader with a batch size of 32 and a subsample fraction of 0.5. The optimizer used is stochastic gradient descent with a learning rate of 0.1. We train the model for 10 epochs."
   ]
  },
  {
   "cell_type": "code",
   "execution_count": 11,
   "id": "6f112860",
   "metadata": {},
   "outputs": [
    {
     "ename": "ValueError",
     "evalue": "At least one stride in the given numpy array is negative, and tensors with negative strides are not currently supported. (You can probably work around this by making a copy of your array  with array.copy().) ",
     "output_type": "error",
     "traceback": [
      "\u001b[1;31m---------------------------------------------------------------------------\u001b[0m",
      "\u001b[1;31mValueError\u001b[0m                                Traceback (most recent call last)",
      "\u001b[1;32m<ipython-input-11-3d261dc1fb11>\u001b[0m in \u001b[0;36m<module>\u001b[1;34m\u001b[0m\n\u001b[0;32m      7\u001b[0m \u001b[1;31m# Train the model\u001b[0m\u001b[1;33m\u001b[0m\u001b[1;33m\u001b[0m\u001b[1;33m\u001b[0m\u001b[0m\n\u001b[0;32m      8\u001b[0m \u001b[1;32mfor\u001b[0m \u001b[0mepoch\u001b[0m \u001b[1;32min\u001b[0m \u001b[0mrange\u001b[0m\u001b[1;33m(\u001b[0m\u001b[1;36m10\u001b[0m\u001b[1;33m)\u001b[0m\u001b[1;33m:\u001b[0m\u001b[1;33m\u001b[0m\u001b[1;33m\u001b[0m\u001b[0m\n\u001b[1;32m----> 9\u001b[1;33m     \u001b[1;32mfor\u001b[0m \u001b[0minputs\u001b[0m\u001b[1;33m,\u001b[0m \u001b[0mtargets\u001b[0m \u001b[1;32min\u001b[0m \u001b[0mtrain_loader\u001b[0m\u001b[1;33m:\u001b[0m\u001b[1;33m\u001b[0m\u001b[1;33m\u001b[0m\u001b[0m\n\u001b[0m\u001b[0;32m     10\u001b[0m         \u001b[0moptimizer\u001b[0m\u001b[1;33m.\u001b[0m\u001b[0mzero_grad\u001b[0m\u001b[1;33m(\u001b[0m\u001b[1;33m)\u001b[0m\u001b[1;33m\u001b[0m\u001b[1;33m\u001b[0m\u001b[0m\n\u001b[0;32m     11\u001b[0m         \u001b[0moutputs\u001b[0m \u001b[1;33m=\u001b[0m \u001b[0mmodel\u001b[0m\u001b[1;33m(\u001b[0m\u001b[0minputs\u001b[0m\u001b[1;33m)\u001b[0m\u001b[1;33m\u001b[0m\u001b[1;33m\u001b[0m\u001b[0m\n",
      "\u001b[1;32m<ipython-input-10-724515dcfdb9>\u001b[0m in \u001b[0;36m__iter__\u001b[1;34m(self)\u001b[0m\n\u001b[0;32m     25\u001b[0m                 \u001b[0msubset_idx\u001b[0m \u001b[1;33m=\u001b[0m \u001b[0msorted_idx\u001b[0m\u001b[1;33m[\u001b[0m\u001b[1;33m:\u001b[0m\u001b[0mint\u001b[0m\u001b[1;33m(\u001b[0m\u001b[0mlen\u001b[0m\u001b[1;33m(\u001b[0m\u001b[0msorted_idx\u001b[0m\u001b[1;33m)\u001b[0m \u001b[1;33m*\u001b[0m \u001b[0mself\u001b[0m\u001b[1;33m.\u001b[0m\u001b[0msubsample_fraction\u001b[0m\u001b[1;33m)\u001b[0m\u001b[1;33m]\u001b[0m\u001b[1;33m\u001b[0m\u001b[1;33m\u001b[0m\u001b[0m\n\u001b[0;32m     26\u001b[0m \u001b[1;33m\u001b[0m\u001b[0m\n\u001b[1;32m---> 27\u001b[1;33m             \u001b[1;32myield\u001b[0m \u001b[0minputs\u001b[0m\u001b[1;33m[\u001b[0m\u001b[0msubset_idx\u001b[0m\u001b[1;33m]\u001b[0m\u001b[1;33m.\u001b[0m\u001b[0mclone\u001b[0m\u001b[1;33m(\u001b[0m\u001b[1;33m)\u001b[0m\u001b[1;33m,\u001b[0m \u001b[0mtargets\u001b[0m\u001b[1;33m[\u001b[0m\u001b[0msubset_idx\u001b[0m\u001b[1;33m]\u001b[0m\u001b[1;33m.\u001b[0m\u001b[0mclone\u001b[0m\u001b[1;33m(\u001b[0m\u001b[1;33m)\u001b[0m\u001b[1;33m\u001b[0m\u001b[1;33m\u001b[0m\u001b[0m\n\u001b[0m",
      "\u001b[1;31mValueError\u001b[0m: At least one stride in the given numpy array is negative, and tensors with negative strides are not currently supported. (You can probably work around this by making a copy of your array  with array.copy().) "
     ]
    }
   ],
   "source": [
    "# Set up the model, data, and optimizer\n",
    "model = MLP(input_size=10, hidden_size=64, output_size=1)\n",
    "train_dataset = torch.utils.data.TensorDataset(torch.randn(1000, 10), torch.randn(1000, 1))\n",
    "train_loader = CustomDataLoader(train_dataset, batch_size=32, subsample_fraction=0.5)\n",
    "optimizer = torch.optim.SGD(model.parameters(), lr=0.1)\n",
    "\n",
    "# Train the model\n",
    "for epoch in range(10):\n",
    "    for inputs, targets in train_loader:\n",
    "        optimizer.zero_grad()\n",
    "        outputs = model(inputs)\n",
    "        loss = nn.MSELoss()(outputs, targets)\n",
    "        loss.backward()\n",
    "        optimizer.step()"
   ]
  },
  {
   "cell_type": "code",
   "execution_count": null,
   "id": "19b7c4ee",
   "metadata": {},
   "outputs": [],
   "source": []
  }
 ],
 "metadata": {
  "kernelspec": {
   "display_name": "Python 3",
   "language": "python",
   "name": "python3"
  },
  "language_info": {
   "codemirror_mode": {
    "name": "ipython",
    "version": 3
   },
   "file_extension": ".py",
   "mimetype": "text/x-python",
   "name": "python",
   "nbconvert_exporter": "python",
   "pygments_lexer": "ipython3",
   "version": "3.8.8"
  }
 },
 "nbformat": 4,
 "nbformat_minor": 5
}
