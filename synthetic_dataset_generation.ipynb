{
 "cells": [
  {
   "cell_type": "markdown",
   "id": "f4458147",
   "metadata": {},
   "source": [
    "# Generate Synthetic Dataset"
   ]
  },
  {
   "cell_type": "code",
   "execution_count": 7,
   "id": "90bb965d",
   "metadata": {
    "collapsed": true
   },
   "outputs": [
    {
     "name": "stdout",
     "output_type": "stream",
     "text": [
      "Collecting scikit-multiflow\n",
      "  Downloading scikit_multiflow-0.5.3-cp38-cp38-win_amd64.whl (539 kB)\n",
      "Requirement already satisfied: numpy>=1.14.0 in c:\\users\\erik konstenius\\anaconda3\\lib\\site-packages (from scikit-multiflow) (1.21.5)\n",
      "Requirement already satisfied: matplotlib>=2.0.0 in c:\\users\\erik konstenius\\anaconda3\\lib\\site-packages (from scikit-multiflow) (3.3.4)\n",
      "Requirement already satisfied: pandas>=0.25.3 in c:\\users\\erik konstenius\\anaconda3\\lib\\site-packages (from scikit-multiflow) (1.2.4)\n",
      "Requirement already satisfied: scikit-learn>=0.20 in c:\\users\\erik konstenius\\appdata\\roaming\\python\\python38\\site-packages (from scikit-multiflow) (1.0.2)\n",
      "Requirement already satisfied: scipy>=1.0.0 in c:\\users\\erik konstenius\\anaconda3\\lib\\site-packages (from scikit-multiflow) (1.8.1)\n",
      "Requirement already satisfied: sortedcontainers>=1.5.7 in c:\\users\\erik konstenius\\anaconda3\\lib\\site-packages (from scikit-multiflow) (2.3.0)\n",
      "Requirement already satisfied: kiwisolver>=1.0.1 in c:\\users\\erik konstenius\\anaconda3\\lib\\site-packages (from matplotlib>=2.0.0->scikit-multiflow) (1.3.1)\n",
      "Requirement already satisfied: pillow>=6.2.0 in c:\\users\\erik konstenius\\anaconda3\\lib\\site-packages (from matplotlib>=2.0.0->scikit-multiflow) (8.2.0)\n",
      "Requirement already satisfied: python-dateutil>=2.1 in c:\\users\\erik konstenius\\anaconda3\\lib\\site-packages (from matplotlib>=2.0.0->scikit-multiflow) (2.8.1)\n",
      "Requirement already satisfied: pyparsing!=2.0.4,!=2.1.2,!=2.1.6,>=2.0.3 in c:\\users\\erik konstenius\\anaconda3\\lib\\site-packages (from matplotlib>=2.0.0->scikit-multiflow) (2.4.7)\n",
      "Requirement already satisfied: cycler>=0.10 in c:\\users\\erik konstenius\\anaconda3\\lib\\site-packages (from matplotlib>=2.0.0->scikit-multiflow) (0.10.0)\n",
      "Requirement already satisfied: six in c:\\users\\erik konstenius\\anaconda3\\lib\\site-packages (from cycler>=0.10->matplotlib>=2.0.0->scikit-multiflow) (1.12.0)\n",
      "Requirement already satisfied: pytz>=2017.3 in c:\\users\\erik konstenius\\anaconda3\\lib\\site-packages (from pandas>=0.25.3->scikit-multiflow) (2021.1)\n",
      "Requirement already satisfied: joblib>=0.11 in c:\\users\\erik konstenius\\anaconda3\\lib\\site-packages (from scikit-learn>=0.20->scikit-multiflow) (1.0.1)\n",
      "Requirement already satisfied: threadpoolctl>=2.0.0 in c:\\users\\erik konstenius\\anaconda3\\lib\\site-packages (from scikit-learn>=0.20->scikit-multiflow) (2.1.0)\n",
      "Installing collected packages: scikit-multiflow\n",
      "Successfully installed scikit-multiflow-0.5.3\n"
     ]
    }
   ],
   "source": [
    "# !pip install -U git+https://github.com/scikit-multiflow/scikit-multiflow\n",
    "# !pip install scikit-multiflow"
   ]
  },
  {
   "cell_type": "code",
   "execution_count": 15,
   "id": "76a8c4ea",
   "metadata": {},
   "outputs": [],
   "source": [
    "import skmultiflow\n",
    "from skmultiflow.data.base_stream import Stream\n",
    "from skmultiflow.utils import check_random_state\n",
    "from skmultiflow.data import ConceptDriftStream\n",
    "from skmultiflow.data.regression_generator import RegressionGenerator\n",
    "import matplotlib.pyplot as plt\n",
    "import random\n",
    "import numpy as np\n",
    "from scipy.signal import medfilt\n",
    "from scipy.ndimage import gaussian_filter"
   ]
  },
  {
   "cell_type": "code",
   "execution_count": 143,
   "id": "63df0557",
   "metadata": {},
   "outputs": [],
   "source": [
    "def generate_data(num_drifts, number_datapoints, drift_position, seed, recurrent, filtering,\n",
    "                  exaggerate):\n",
    "    \"\"\"\n",
    "    Generates simulated data with concept drifts.\n",
    "\n",
    "    Parameters\n",
    "    ----------\n",
    "    num_drifts : int\n",
    "        The number of concept drifts to simulate.\n",
    "    number_datapoints : int\n",
    "        The number of data points to generate for each drift.\n",
    "    seed : int\n",
    "        The random seed to use for generating the data.\n",
    "    recurrent : bool\n",
    "        Whether to generate recurrent data (i.e., where the inputs depend on previous outputs).\n",
    "    filtering : str\n",
    "        The type of filtering to apply to the output data. Options are \"median\", \"gaussian\", or None.\n",
    "    exaggerate : int\n",
    "        Whether each stream should be multiplied by a constant such that the difference between drifts\n",
    "        are exagerrated.\n",
    "\n",
    "    Returns\n",
    "    -------\n",
    "    X : numpy.ndarray, shape (n_samples, n_features)\n",
    "        The input data.\n",
    "    y : numpy.ndarray, shape (n_samples,)\n",
    "        The output data.\n",
    "    data_index : list\n",
    "        The index of each data point in the generated stream.\n",
    "\n",
    "    \"\"\"\n",
    "    \n",
    "    data = []\n",
    "    for i in range(num_drifts-1):\n",
    "        \n",
    "        # if recurrent concept drift then set seed in one of the two streams to same\n",
    "        first_stream_seed = seed if recurrent else random.randint(0, 100)\n",
    "        \n",
    "        # Generate a stream object with concept drift\n",
    "        stream_output_object = skmultiflow.data.ConceptDriftStream(stream=RegressionGenerator(\n",
    "                                                            n_samples=number_datapoints,\n",
    "                                                            n_features=20,\n",
    "                                                            n_targets=1,\n",
    "                                                            n_informative=6,\n",
    "                                                            random_state=first_stream_seed),\n",
    "                                        drift_stream=RegressionGenerator(\n",
    "                                                             n_samples=number_datapoints,\n",
    "                                                             n_features=20,\n",
    "                                                             n_targets=1,\n",
    "                                                             n_informative=6,\n",
    "                                                             random_state=random.randint(0, 100)), \n",
    "                                                position=drift_position, width=1,\n",
    "                                                random_state=seed, alpha=0.0)\n",
    "        # Generate data for the stream object\n",
    "        data_i = stream_output_object.next_sample(number_datapoints)\n",
    "        \n",
    "        # Apply filtering to the output data if requested\n",
    "        if filtering == \"median\":\n",
    "            # median filtering\n",
    "            y = medfilt(list(data_i[1]))\n",
    "\n",
    "        elif filtering == \"gaussian\":\n",
    "            # Gaussian filter\n",
    "            y = gaussian_filter(list(data_i[1]), sigma=1)\n",
    "\n",
    "        else:\n",
    "            y = data_i[1]\n",
    "        \n",
    "        # exaggerate size of concept drift\n",
    "        if np.random.choice([True, False]) and exaggerate != None:\n",
    "            y = y * random.randint(-5, 5)\n",
    "            \n",
    "        # Reshape the output data and add it to the list of generated data\n",
    "        y = np.reshape(y, (number_datapoints, 1))\n",
    "        data.append((data_i[0], y, list(range(i*number_datapoints+1, (i+1)*number_datapoints+1))))\n",
    "    \n",
    "    # Concatenate the generated data and return it\n",
    "    X = np.concatenate([d[0] for d in data])\n",
    "    y = np.concatenate([d[1] for d in data]).ravel()\n",
    "    data_index = np.concatenate([d[2] for d in data])\n",
    "    \n",
    "    print(\"Shape features \" + str(X.shape))\n",
    "    print(\"Shape target \" + str(y.shape))\n",
    "    \n",
    "    def print_means(y, drift_position):\n",
    "        index = 1\n",
    "        start = 0\n",
    "        end = drift_position\n",
    "        for i in range(3+1):\n",
    "            print(\"Mean \" + str(index) + \": \" + str(y[start:end].mean()))\n",
    "            index += 1\n",
    "            start += 500\n",
    "            end += 500\n",
    "\n",
    "    print_means(y, drift_position)\n",
    "\n",
    "    return X,y, data_index"
   ]
  },
  {
   "cell_type": "code",
   "execution_count": 145,
   "id": "d43a6440",
   "metadata": {},
   "outputs": [
    {
     "name": "stdout",
     "output_type": "stream",
     "text": [
      "Shape features (5000, 20)\n",
      "Shape target (5000,)\n",
      "Mean 1: -11.38688278213554\n",
      "Mean 2: 29.31590123404484\n",
      "Mean 3: 2.846720695533885\n",
      "Mean 4: 8.830450034040966\n"
     ]
    }
   ],
   "source": [
    "# generate data\n",
    "X,y, data_index = generate_data(num_drifts = 6, \n",
    "                                number_datapoints = 1000,\n",
    "                                drift_position = 500,\n",
    "                                seed = 42,\n",
    "                                recurrent = True,\n",
    "                                filtering = None,\n",
    "                                exaggerate = 5)  "
   ]
  },
  {
   "cell_type": "code",
   "execution_count": 119,
   "id": "2bf26eec",
   "metadata": {},
   "outputs": [
    {
     "data": {
      "image/png": "[encoded data removed]",
      "text/plain": [
       "<Figure size 432x288 with 1 Axes>"
      ]
     },
     "metadata": {
      "needs_background": "light"
     },
     "output_type": "display_data"
    }
   ],
   "source": [
    "def plot_avg_ravg(data_index, y, window_size):\n",
    "    plt.scatter(data_index, y)\n",
    "\n",
    "    #add horizontal line at mean value of y\n",
    "    plt.axhline(y=np.nanmean(y), color='red', linestyle='--', linewidth=3, label='Avg')\n",
    "\n",
    "    # running average\n",
    "    window = window_size\n",
    "    average_y = []\n",
    "    for ind in range(len(y) - window + 1):\n",
    "        average_y.append(np.mean(y[ind:ind+window]))\n",
    "    # make y have the same length as x\n",
    "    if len(average_y) < len(data_index):\n",
    "        average_y = np.append(average_y, [average_y[-1]] * (len(data_index) - len(average_y)))\n",
    "\n",
    "    plt.plot(data_index, average_y, 'b.-', label='Running average')\n",
    "    plt.grid(linestyle=':')\n",
    "    plt.legend()\n",
    "    plt.show()\n",
    "\n",
    "plot_avg_ravg(data_index, y, window_size = 100)"
   ]
  }
 ],
 "metadata": {
  "kernelspec": {
   "display_name": "Python 3",
   "language": "python",
   "name": "python3"
  },
  "language_info": {
   "codemirror_mode": {
    "name": "ipython",
    "version": 3
   },
   "file_extension": ".py",
   "mimetype": "text/x-python",
   "name": "python",
   "nbconvert_exporter": "python",
   "pygments_lexer": "ipython3",
   "version": "3.8.8"
  }
 },
 "nbformat": 4,
 "nbformat_minor": 5
}
